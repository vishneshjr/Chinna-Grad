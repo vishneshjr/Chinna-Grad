{
 "cells": [
  {
   "cell_type": "code",
   "execution_count": 1,
   "metadata": {},
   "outputs": [],
   "source": [
    "from chinna_grad.engine import Node\n",
    "from chinna_grad.neural_net import MLP\n",
    "import matplotlib.pyplot as plt"
   ]
  },
  {
   "cell_type": "code",
   "execution_count": 2,
   "metadata": {},
   "outputs": [],
   "source": [
    "\n",
    "# Visualize the connections\n",
    "from graphviz import Digraph as dir_graph\n",
    "\n",
    "def trace(result):\n",
    "    # Use DFS to build a set of all nodes and edges starting from the final result node\n",
    "    nodes = set()\n",
    "    edges = set()\n",
    "    def build(node):\n",
    "        if (node not in nodes):\n",
    "            nodes.add(node)\n",
    "            for child in (node._prev):\n",
    "                edges.add((child, node))\n",
    "                build(child)\n",
    "    build(result)\n",
    "    return (nodes, edges)\n",
    "\n",
    "def draw_graph(result):\n",
    "    graph = dir_graph(format = 'svg', graph_attr = {'rankdir': \"LR\"})  # Draw the graph from left to right\n",
    "    nodes, edges = trace(result)\n",
    "    for node in nodes:\n",
    "        uniqueName = str(id(node))\n",
    "        # For every node, create a rectangle\n",
    "        graph.node(name = uniqueName, label = \"{%s | data: %.3f | gradient: %.3f}\" % (node.name, node.data, node.grad), shape = \"record\")\n",
    "\n",
    "        # For non-input nodes, create an operation node behind it\n",
    "        if node._op:\n",
    "            opNodeName = uniqueName + node._op\n",
    "            graph.node(name = opNodeName, label = node._op)\n",
    "            graph.edge(opNodeName, str(id(node)))\n",
    "    \n",
    "    for node1, node2 in edges:\n",
    "        graph.edge(str(id(node1)), str(id(node2)) + node2._op)\n",
    "    \n",
    "    return graph"
   ]
  },
  {
   "cell_type": "code",
   "execution_count": null,
   "metadata": {},
   "outputs": [],
   "source": [
    "a = Node(3.0)\n",
    "b = Node(-3.0)\n",
    "c = a * b\n",
    "d = Node(10.0)\n",
    "e  = c  + d\n",
    "\n",
    "\n",
    "#-------Trying out tanh implementation from scratch-----\n",
    "# f = (2*e).exp()\n",
    "# O = (f - 1) / (f + 1)\n",
    "# O.name = \"O\"\n",
    "# O.backward()\n",
    "# draw_graph(O)\n",
    "\n",
    "O = e.tanh()\n",
    "O.name = \"O\"\n",
    "O.backward()\n",
    "draw_graph(O)\n",
    "\n"
   ]
  },
  {
   "cell_type": "code",
   "execution_count": 3,
   "metadata": {},
   "outputs": [
    {
     "data": {
      "text/plain": [
       "N104 : (Value = 0.2651342338818243)"
      ]
     },
     "execution_count": 3,
     "metadata": {},
     "output_type": "execute_result"
    }
   ],
   "source": [
    "# Training the network to perform logic gate operations\n",
    "\n",
    "xs = [[0.0, 0.0],\n",
    "      [0.0, 1.0],\n",
    "      [1.0, 0.0], \n",
    "      [1.0, 1.0],]\n",
    "\n",
    "# xs = [[1.0, 0.0],\n",
    "#       [0.0, 1.0],\n",
    "#       [0.0, 0.0], \n",
    "#       [1.0, 1.0],\n",
    "#       [0.0, 1.0],\n",
    "#       [1.0, 0.0],\n",
    "#       [1.0, 1.0], \n",
    "#       [0.0, 0.0]]\n",
    "\n",
    "ys = [0.0, 1.0, 1.0, 0.0]\n",
    "#ys = [0.0, 0.0, 1.0, 1.0, 0.0, 0.0, 1.0, 1.0]\n",
    "network = MLP(2, [2, 1])\n",
    "y_preds = [network(x) for x in xs]\n",
    "y_preds\n",
    "mean_squared_error =  sum(((y_pred - y_og)**2 for y_pred, y_og in zip(y_preds, ys)), Node(0)) / len(ys)\n",
    "mean_squared_error"
   ]
  },
  {
   "cell_type": "code",
   "execution_count": null,
   "metadata": {},
   "outputs": [],
   "source": [
    "draw_graph(mean_squared_error)"
   ]
  },
  {
   "cell_type": "code",
   "execution_count": 4,
   "metadata": {},
   "outputs": [],
   "source": [
    "iterations = []\n",
    "lossValues = []\n",
    "for i in range(10000):\n",
    "\n",
    "    # Forward Pass\n",
    "    y_preds = [network(x) for x in xs]\n",
    "    mean_squared_error = sum(((y_pred - y_og)**2 for y_pred, y_og in zip(y_preds, ys)), Node(0)) / len(ys)\n",
    "    #print(\"Cycle: \", i + 1, \"Current Loss: \", mean_squared_error.data)\n",
    "    iterations.append(i + 1)\n",
    "    lossValues.append(mean_squared_error.data)\n",
    "    \n",
    "    # Backward Pass\n",
    "    network.zero_grad()\n",
    "    mean_squared_error.backward()\n",
    "    for parameter in network.parameters():\n",
    "        parameter.data -= 0.01 * parameter.grad"
   ]
  },
  {
   "cell_type": "code",
   "execution_count": 5,
   "metadata": {},
   "outputs": [
    {
     "data": {
      "image/png": "[encoded data removed]",
      "text/plain": [
       "<Figure size 640x480 with 1 Axes>"
      ]
     },
     "metadata": {},
     "output_type": "display_data"
    }
   ],
   "source": [
    "plt.plot(iterations, lossValues, color = 'b')\n",
    "plt.show()"
   ]
  },
  {
   "cell_type": "code",
   "execution_count": 6,
   "metadata": {},
   "outputs": [
    {
     "data": {
      "text/plain": [
       "[N950028 : (Value = 0.008948259235084383),\n",
       " N950047 : (Value = 0.9301407610643312),\n",
       " N950066 : (Value = 0.9301193943225565),\n",
       " N950085 : (Value = 0.01219420866514272)]"
      ]
     },
     "execution_count": 6,
     "metadata": {},
     "output_type": "execute_result"
    }
   ],
   "source": [
    "y_preds"
   ]
  },
  {
   "cell_type": "code",
   "execution_count": null,
   "metadata": {},
   "outputs": [],
   "source": [
    "draw_graph(mean_squared_error)"
   ]
  }
 ],
 "metadata": {
  "kernelspec": {
   "display_name": "Python 3",
   "language": "python",
   "name": "python3"
  },
  "language_info": {
   "codemirror_mode": {
    "name": "ipython",
    "version": 3
   },
   "file_extension": ".py",
   "mimetype": "text/x-python",
   "name": "python",
   "nbconvert_exporter": "python",
   "pygments_lexer": "ipython3",
   "version": "3.11.4"
  },
  "orig_nbformat": 4
 },
 "nbformat": 4,
 "nbformat_minor": 2
}
