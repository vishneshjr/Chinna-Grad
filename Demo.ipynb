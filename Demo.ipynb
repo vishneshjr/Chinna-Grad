{
 "cells": [
  {
   "cell_type": "code",
   "execution_count": 91,
   "metadata": {},
   "outputs": [
    {
     "ename": "SyntaxError",
     "evalue": "invalid syntax (1341715216.py, line 1)",
     "output_type": "error",
     "traceback": [
      "\u001b[0;36m  Cell \u001b[0;32mIn[91], line 1\u001b[0;36m\u001b[0m\n\u001b[0;31m    from chinna-grad.engine import Node\u001b[0m\n\u001b[0m               ^\u001b[0m\n\u001b[0;31mSyntaxError\u001b[0m\u001b[0;31m:\u001b[0m invalid syntax\n"
     ]
    }
   ],
   "source": [
    "import sys\n",
    "sys.path.append(\"chinna-grad\")\n",
    "from engine import Node\n"
   ]
  },
  {
   "cell_type": "code",
   "execution_count": 88,
   "metadata": {},
   "outputs": [],
   "source": [
    "\n",
    "# Visualize the connections\n",
    "from graphviz import Digraph as dir_graph\n",
    "\n",
    "def trace(result):\n",
    "    # Use DFS to build a set of all nodes and edges starting from the final result node\n",
    "    nodes = set()\n",
    "    edges = set()\n",
    "    def build(node):\n",
    "        if (node not in nodes):\n",
    "            nodes.add(node)\n",
    "            for child in (node._prev):\n",
    "                edges.add((child, node))\n",
    "                build(child)\n",
    "    build(result)\n",
    "    return (nodes, edges)\n",
    "\n",
    "def draw_graph(result):\n",
    "    graph = dir_graph(format = 'svg', graph_attr = {'rankdir': \"LR\"})  # Draw the graph from left to right\n",
    "    nodes, edges = trace(result)\n",
    "    for node in nodes:\n",
    "        # For every node, create a rectangle\n",
    "        graph.node(name = node.name, label = \"{%s | data: %.3f | gradient: %.3f}\" % (node.name, node.data, node.grad), shape = \"record\")\n",
    "\n",
    "        # For non-input nodes, create an operation node behind it\n",
    "        if node._op:\n",
    "            opNodeName = node.name + node._op\n",
    "            graph.node(name = opNodeName, label = node._op)\n",
    "            graph.edge(opNodeName, node.name)\n",
    "    \n",
    "    for node1, node2 in edges:\n",
    "        graph.edge(node1.name, node2.name + node2._op)\n",
    "    \n",
    "    return graph"
   ]
  },
  {
   "cell_type": "code",
   "execution_count": 89,
   "metadata": {},
   "outputs": [
    {
     "ename": "NameError",
     "evalue": "name 'math' is not defined",
     "output_type": "error",
     "traceback": [
      "\u001b[0;31m---------------------------------------------------------------------------\u001b[0m",
      "\u001b[0;31mNameError\u001b[0m                                 Traceback (most recent call last)",
      "Cell \u001b[0;32mIn[89], line 15\u001b[0m\n\u001b[1;32m      5\u001b[0m e  \u001b[39m=\u001b[39m c  \u001b[39m+\u001b[39m d\n\u001b[1;32m      8\u001b[0m \u001b[39m#-------Trying out tanh implementation from scratch-----\u001b[39;00m\n\u001b[1;32m      9\u001b[0m \u001b[39m# f = (2*e).exp()\u001b[39;00m\n\u001b[1;32m     10\u001b[0m \u001b[39m# O = (f - 1) / (f + 1)\u001b[39;00m\n\u001b[1;32m     11\u001b[0m \u001b[39m# O.name = \"O\"\u001b[39;00m\n\u001b[1;32m     12\u001b[0m \u001b[39m# O.backward()\u001b[39;00m\n\u001b[1;32m     13\u001b[0m \u001b[39m# draw_graph(O)\u001b[39;00m\n\u001b[0;32m---> 15\u001b[0m O \u001b[39m=\u001b[39m e\u001b[39m.\u001b[39;49mtanh()\n\u001b[1;32m     16\u001b[0m O\u001b[39m.\u001b[39mname \u001b[39m=\u001b[39m \u001b[39m\"\u001b[39m\u001b[39mO\u001b[39m\u001b[39m\"\u001b[39m\n\u001b[1;32m     17\u001b[0m O\u001b[39m.\u001b[39mbackward()\n",
      "File \u001b[0;32m~/Master/08 - Personal Projects/Karpathy Neural Networks/Chinna-Grad/chinna-grad/engine.py:76\u001b[0m, in \u001b[0;36mNode.tanh\u001b[0;34m(self)\u001b[0m\n\u001b[1;32m     75\u001b[0m \u001b[39mdef\u001b[39;00m \u001b[39mtanh\u001b[39m(\u001b[39mself\u001b[39m):\n\u001b[0;32m---> 76\u001b[0m     outputData \u001b[39m=\u001b[39m (math\u001b[39m.\u001b[39mexp(\u001b[39m2\u001b[39m\u001b[39m*\u001b[39m\u001b[39mself\u001b[39m\u001b[39m.\u001b[39mdata) \u001b[39m-\u001b[39m \u001b[39m1.0\u001b[39m) \u001b[39m/\u001b[39m (math\u001b[39m.\u001b[39mexp(\u001b[39m2\u001b[39m\u001b[39m*\u001b[39m\u001b[39mself\u001b[39m\u001b[39m.\u001b[39mdata) \u001b[39m+\u001b[39m \u001b[39m1.0\u001b[39m)\n\u001b[1;32m     77\u001b[0m     outputNode \u001b[39m=\u001b[39m Node(outputData, _children \u001b[39m=\u001b[39m (\u001b[39mself\u001b[39m, ), _op \u001b[39m=\u001b[39m \u001b[39m\"\u001b[39m\u001b[39mtanh\u001b[39m\u001b[39m\"\u001b[39m)\n\u001b[1;32m     78\u001b[0m     \u001b[39mdef\u001b[39;00m \u001b[39m_backward\u001b[39m():\n",
      "\u001b[0;31mNameError\u001b[0m: name 'math' is not defined"
     ]
    }
   ],
   "source": [
    "a = Node(3.0)\n",
    "b = Node(-3.0)\n",
    "c = a * b\n",
    "d = Node(10.0)\n",
    "e  = c  + d\n",
    "\n",
    "\n",
    "#-------Trying out tanh implementation from scratch-----\n",
    "# f = (2*e).exp()\n",
    "# O = (f - 1) / (f + 1)\n",
    "# O.name = \"O\"\n",
    "# O.backward()\n",
    "# draw_graph(O)\n",
    "\n",
    "O = e.tanh()\n",
    "O.name = \"O\"\n",
    "O.backward()\n",
    "draw_graph(O)\n",
    "\n"
   ]
  }
 ],
 "metadata": {
  "kernelspec": {
   "display_name": "Python 3",
   "language": "python",
   "name": "python3"
  },
  "language_info": {
   "codemirror_mode": {
    "name": "ipython",
    "version": 3
   },
   "file_extension": ".py",
   "mimetype": "text/x-python",
   "name": "python",
   "nbconvert_exporter": "python",
   "pygments_lexer": "ipython3",
   "version": "3.11.4"
  },
  "orig_nbformat": 4
 },
 "nbformat": 4,
 "nbformat_minor": 2
}
